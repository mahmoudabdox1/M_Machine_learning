{
 "cells": [
  {
   "cell_type": "code",
   "execution_count": 1,
   "metadata": {},
   "outputs": [],
   "source": [
    "import pandas as pd\n",
    "import numpy as np\n",
    "import matplotlib.pyplot as plt\n",
    "%matplotlib inline\n",
    "\n",
    "#  s caling\n",
    "# standrd c"
   ]
  },
  {
   "cell_type": "code",
   "execution_count": 3,
   "metadata": {},
   "outputs": [
    {
     "data": {
      "text/html": [
       "<div>\n",
       "<style scoped>\n",
       "    .dataframe tbody tr th:only-of-type {\n",
       "        vertical-align: middle;\n",
       "    }\n",
       "\n",
       "    .dataframe tbody tr th {\n",
       "        vertical-align: top;\n",
       "    }\n",
       "\n",
       "    .dataframe thead th {\n",
       "        text-align: right;\n",
       "    }\n",
       "</style>\n",
       "<table border=\"1\" class=\"dataframe\">\n",
       "  <thead>\n",
       "    <tr style=\"text-align: right;\">\n",
       "      <th></th>\n",
       "      <th>Model-Year</th>\n",
       "      <th>Make</th>\n",
       "      <th>Model</th>\n",
       "      <th>Vehicle-Class</th>\n",
       "      <th>Engine-Size</th>\n",
       "      <th>Cylinders</th>\n",
       "      <th>Transmission</th>\n",
       "      <th>Fuel-Type</th>\n",
       "      <th>Fuel-Consumption-City</th>\n",
       "      <th>Fuel-Consumption-Hwy</th>\n",
       "      <th>Fuel-Consumption-Comb</th>\n",
       "      <th>CO2-Emissions</th>\n",
       "    </tr>\n",
       "  </thead>\n",
       "  <tbody>\n",
       "    <tr>\n",
       "      <th>0</th>\n",
       "      <td>2019</td>\n",
       "      <td>Acura</td>\n",
       "      <td>ILX</td>\n",
       "      <td>Compact</td>\n",
       "      <td>2.4</td>\n",
       "      <td>4</td>\n",
       "      <td>AM8</td>\n",
       "      <td>Z</td>\n",
       "      <td>9.9</td>\n",
       "      <td>7.0</td>\n",
       "      <td>8.6</td>\n",
       "      <td>199</td>\n",
       "    </tr>\n",
       "    <tr>\n",
       "      <th>1</th>\n",
       "      <td>2019</td>\n",
       "      <td>Acura</td>\n",
       "      <td>MDX SH-AWD</td>\n",
       "      <td>SUV: Small</td>\n",
       "      <td>3.5</td>\n",
       "      <td>6</td>\n",
       "      <td>AS9</td>\n",
       "      <td>Z</td>\n",
       "      <td>12.2</td>\n",
       "      <td>9.0</td>\n",
       "      <td>10.8</td>\n",
       "      <td>252</td>\n",
       "    </tr>\n",
       "    <tr>\n",
       "      <th>2</th>\n",
       "      <td>2019</td>\n",
       "      <td>Acura</td>\n",
       "      <td>MDX SH-AWD A-SPEC</td>\n",
       "      <td>SUV: Small</td>\n",
       "      <td>3.5</td>\n",
       "      <td>6</td>\n",
       "      <td>AS9</td>\n",
       "      <td>Z</td>\n",
       "      <td>12.2</td>\n",
       "      <td>9.5</td>\n",
       "      <td>11.0</td>\n",
       "      <td>258</td>\n",
       "    </tr>\n",
       "    <tr>\n",
       "      <th>3</th>\n",
       "      <td>2019</td>\n",
       "      <td>Acura</td>\n",
       "      <td>MDX Hybrid AWD</td>\n",
       "      <td>SUV: Small</td>\n",
       "      <td>3.0</td>\n",
       "      <td>6</td>\n",
       "      <td>AM7</td>\n",
       "      <td>Z</td>\n",
       "      <td>9.1</td>\n",
       "      <td>9.0</td>\n",
       "      <td>9.0</td>\n",
       "      <td>210</td>\n",
       "    </tr>\n",
       "    <tr>\n",
       "      <th>4</th>\n",
       "      <td>2019</td>\n",
       "      <td>Acura</td>\n",
       "      <td>NSX</td>\n",
       "      <td>Two-seater</td>\n",
       "      <td>3.5</td>\n",
       "      <td>6</td>\n",
       "      <td>AM9</td>\n",
       "      <td>Z</td>\n",
       "      <td>11.1</td>\n",
       "      <td>10.8</td>\n",
       "      <td>11.0</td>\n",
       "      <td>261</td>\n",
       "    </tr>\n",
       "  </tbody>\n",
       "</table>\n",
       "</div>"
      ],
      "text/plain": [
       "   Model-Year   Make              Model Vehicle-Class  Engine-Size  Cylinders  \\\n",
       "0        2019  Acura                ILX       Compact          2.4          4   \n",
       "1        2019  Acura         MDX SH-AWD    SUV: Small          3.5          6   \n",
       "2        2019  Acura  MDX SH-AWD A-SPEC    SUV: Small          3.5          6   \n",
       "3        2019  Acura     MDX Hybrid AWD    SUV: Small          3.0          6   \n",
       "4        2019  Acura                NSX    Two-seater          3.5          6   \n",
       "\n",
       "  Transmission Fuel-Type  Fuel-Consumption-City  Fuel-Consumption-Hwy  \\\n",
       "0          AM8         Z                    9.9                   7.0   \n",
       "1          AS9         Z                   12.2                   9.0   \n",
       "2          AS9         Z                   12.2                   9.5   \n",
       "3          AM7         Z                    9.1                   9.0   \n",
       "4          AM9         Z                   11.1                  10.8   \n",
       "\n",
       "   Fuel-Consumption-Comb  CO2-Emissions  \n",
       "0                    8.6            199  \n",
       "1                   10.8            252  \n",
       "2                   11.0            258  \n",
       "3                    9.0            210  \n",
       "4                   11.0            261  "
      ]
     },
     "execution_count": 3,
     "metadata": {},
     "output_type": "execute_result"
    }
   ],
   "source": [
    "data=pd.read_csv(r\"C:\\Users\\ALMASRIA 4 COMP\\Desktop\\ML\\kaggle_Fuel consumption 2019.csv\")\n",
    "data.head()"
   ]
  },
  {
   "cell_type": "code",
   "execution_count": 4,
   "metadata": {},
   "outputs": [
    {
     "data": {
      "text/html": [
       "<div>\n",
       "<style scoped>\n",
       "    .dataframe tbody tr th:only-of-type {\n",
       "        vertical-align: middle;\n",
       "    }\n",
       "\n",
       "    .dataframe tbody tr th {\n",
       "        vertical-align: top;\n",
       "    }\n",
       "\n",
       "    .dataframe thead th {\n",
       "        text-align: right;\n",
       "    }\n",
       "</style>\n",
       "<table border=\"1\" class=\"dataframe\">\n",
       "  <thead>\n",
       "    <tr style=\"text-align: right;\">\n",
       "      <th></th>\n",
       "      <th>Model-Year</th>\n",
       "      <th>Engine-Size</th>\n",
       "      <th>Cylinders</th>\n",
       "      <th>Fuel-Consumption-City</th>\n",
       "      <th>Fuel-Consumption-Hwy</th>\n",
       "      <th>Fuel-Consumption-Comb</th>\n",
       "      <th>CO2-Emissions</th>\n",
       "    </tr>\n",
       "  </thead>\n",
       "  <tbody>\n",
       "    <tr>\n",
       "      <th>count</th>\n",
       "      <td>1046.0</td>\n",
       "      <td>1046.000000</td>\n",
       "      <td>1046.000000</td>\n",
       "      <td>1046.000000</td>\n",
       "      <td>1046.000000</td>\n",
       "      <td>1046.000000</td>\n",
       "      <td>1046.000000</td>\n",
       "    </tr>\n",
       "    <tr>\n",
       "      <th>mean</th>\n",
       "      <td>2019.0</td>\n",
       "      <td>3.108795</td>\n",
       "      <td>5.595602</td>\n",
       "      <td>12.378011</td>\n",
       "      <td>9.038050</td>\n",
       "      <td>10.872562</td>\n",
       "      <td>251.312620</td>\n",
       "    </tr>\n",
       "    <tr>\n",
       "      <th>std</th>\n",
       "      <td>0.0</td>\n",
       "      <td>1.315989</td>\n",
       "      <td>1.796845</td>\n",
       "      <td>3.294286</td>\n",
       "      <td>2.049742</td>\n",
       "      <td>2.697321</td>\n",
       "      <td>57.017573</td>\n",
       "    </tr>\n",
       "    <tr>\n",
       "      <th>min</th>\n",
       "      <td>2019.0</td>\n",
       "      <td>1.000000</td>\n",
       "      <td>3.000000</td>\n",
       "      <td>4.200000</td>\n",
       "      <td>4.000000</td>\n",
       "      <td>4.100000</td>\n",
       "      <td>96.000000</td>\n",
       "    </tr>\n",
       "    <tr>\n",
       "      <th>25%</th>\n",
       "      <td>2019.0</td>\n",
       "      <td>2.000000</td>\n",
       "      <td>4.000000</td>\n",
       "      <td>10.200000</td>\n",
       "      <td>7.600000</td>\n",
       "      <td>9.100000</td>\n",
       "      <td>212.250000</td>\n",
       "    </tr>\n",
       "    <tr>\n",
       "      <th>50%</th>\n",
       "      <td>2019.0</td>\n",
       "      <td>3.000000</td>\n",
       "      <td>6.000000</td>\n",
       "      <td>12.050000</td>\n",
       "      <td>8.800000</td>\n",
       "      <td>10.600000</td>\n",
       "      <td>248.000000</td>\n",
       "    </tr>\n",
       "    <tr>\n",
       "      <th>75%</th>\n",
       "      <td>2019.0</td>\n",
       "      <td>3.600000</td>\n",
       "      <td>6.000000</td>\n",
       "      <td>14.300000</td>\n",
       "      <td>10.200000</td>\n",
       "      <td>12.575000</td>\n",
       "      <td>289.000000</td>\n",
       "    </tr>\n",
       "    <tr>\n",
       "      <th>max</th>\n",
       "      <td>2019.0</td>\n",
       "      <td>8.000000</td>\n",
       "      <td>16.000000</td>\n",
       "      <td>26.800000</td>\n",
       "      <td>17.200000</td>\n",
       "      <td>22.200000</td>\n",
       "      <td>522.000000</td>\n",
       "    </tr>\n",
       "  </tbody>\n",
       "</table>\n",
       "</div>"
      ],
      "text/plain": [
       "       Model-Year  Engine-Size    Cylinders  Fuel-Consumption-City  \\\n",
       "count      1046.0  1046.000000  1046.000000            1046.000000   \n",
       "mean       2019.0     3.108795     5.595602              12.378011   \n",
       "std           0.0     1.315989     1.796845               3.294286   \n",
       "min        2019.0     1.000000     3.000000               4.200000   \n",
       "25%        2019.0     2.000000     4.000000              10.200000   \n",
       "50%        2019.0     3.000000     6.000000              12.050000   \n",
       "75%        2019.0     3.600000     6.000000              14.300000   \n",
       "max        2019.0     8.000000    16.000000              26.800000   \n",
       "\n",
       "       Fuel-Consumption-Hwy  Fuel-Consumption-Comb  CO2-Emissions  \n",
       "count           1046.000000            1046.000000    1046.000000  \n",
       "mean               9.038050              10.872562     251.312620  \n",
       "std                2.049742               2.697321      57.017573  \n",
       "min                4.000000               4.100000      96.000000  \n",
       "25%                7.600000               9.100000     212.250000  \n",
       "50%                8.800000              10.600000     248.000000  \n",
       "75%               10.200000              12.575000     289.000000  \n",
       "max               17.200000              22.200000     522.000000  "
      ]
     },
     "execution_count": 4,
     "metadata": {},
     "output_type": "execute_result"
    }
   ],
   "source": [
    "data.describe()"
   ]
  },
  {
   "cell_type": "code",
   "execution_count": 7,
   "metadata": {},
   "outputs": [
    {
     "data": {
      "text/html": [
       "<div>\n",
       "<style scoped>\n",
       "    .dataframe tbody tr th:only-of-type {\n",
       "        vertical-align: middle;\n",
       "    }\n",
       "\n",
       "    .dataframe tbody tr th {\n",
       "        vertical-align: top;\n",
       "    }\n",
       "\n",
       "    .dataframe thead th {\n",
       "        text-align: right;\n",
       "    }\n",
       "</style>\n",
       "<table border=\"1\" class=\"dataframe\">\n",
       "  <thead>\n",
       "    <tr style=\"text-align: right;\">\n",
       "      <th></th>\n",
       "      <th>Model-Year</th>\n",
       "      <th>Make</th>\n",
       "      <th>Model</th>\n",
       "      <th>Vehicle-Class</th>\n",
       "      <th>Engine-Size</th>\n",
       "      <th>Cylinders</th>\n",
       "      <th>Transmission</th>\n",
       "      <th>Fuel-Type</th>\n",
       "      <th>Fuel-Consumption-City</th>\n",
       "      <th>Fuel-Consumption-Hwy</th>\n",
       "      <th>Fuel-Consumption-Comb</th>\n",
       "      <th>CO2-Emissions</th>\n",
       "    </tr>\n",
       "  </thead>\n",
       "  <tbody>\n",
       "    <tr>\n",
       "      <th>0</th>\n",
       "      <td>2019</td>\n",
       "      <td>Acura</td>\n",
       "      <td>ILX</td>\n",
       "      <td>Compact</td>\n",
       "      <td>2.4</td>\n",
       "      <td>4</td>\n",
       "      <td>AM8</td>\n",
       "      <td>Z</td>\n",
       "      <td>9.9</td>\n",
       "      <td>7.0</td>\n",
       "      <td>8.6</td>\n",
       "      <td>199</td>\n",
       "    </tr>\n",
       "    <tr>\n",
       "      <th>1</th>\n",
       "      <td>2019</td>\n",
       "      <td>Acura</td>\n",
       "      <td>MDX SH-AWD</td>\n",
       "      <td>SUV: Small</td>\n",
       "      <td>3.5</td>\n",
       "      <td>6</td>\n",
       "      <td>AS9</td>\n",
       "      <td>Z</td>\n",
       "      <td>12.2</td>\n",
       "      <td>9.0</td>\n",
       "      <td>10.8</td>\n",
       "      <td>252</td>\n",
       "    </tr>\n",
       "    <tr>\n",
       "      <th>2</th>\n",
       "      <td>2019</td>\n",
       "      <td>Acura</td>\n",
       "      <td>MDX SH-AWD A-SPEC</td>\n",
       "      <td>SUV: Small</td>\n",
       "      <td>3.5</td>\n",
       "      <td>6</td>\n",
       "      <td>AS9</td>\n",
       "      <td>Z</td>\n",
       "      <td>12.2</td>\n",
       "      <td>9.5</td>\n",
       "      <td>11.0</td>\n",
       "      <td>258</td>\n",
       "    </tr>\n",
       "    <tr>\n",
       "      <th>3</th>\n",
       "      <td>2019</td>\n",
       "      <td>Acura</td>\n",
       "      <td>MDX Hybrid AWD</td>\n",
       "      <td>SUV: Small</td>\n",
       "      <td>3.0</td>\n",
       "      <td>6</td>\n",
       "      <td>AM7</td>\n",
       "      <td>Z</td>\n",
       "      <td>9.1</td>\n",
       "      <td>9.0</td>\n",
       "      <td>9.0</td>\n",
       "      <td>210</td>\n",
       "    </tr>\n",
       "    <tr>\n",
       "      <th>4</th>\n",
       "      <td>2019</td>\n",
       "      <td>Acura</td>\n",
       "      <td>NSX</td>\n",
       "      <td>Two-seater</td>\n",
       "      <td>3.5</td>\n",
       "      <td>6</td>\n",
       "      <td>AM9</td>\n",
       "      <td>Z</td>\n",
       "      <td>11.1</td>\n",
       "      <td>10.8</td>\n",
       "      <td>11.0</td>\n",
       "      <td>261</td>\n",
       "    </tr>\n",
       "  </tbody>\n",
       "</table>\n",
       "</div>"
      ],
      "text/plain": [
       "   Model-Year   Make              Model Vehicle-Class  Engine-Size  Cylinders  \\\n",
       "0        2019  Acura                ILX       Compact          2.4          4   \n",
       "1        2019  Acura         MDX SH-AWD    SUV: Small          3.5          6   \n",
       "2        2019  Acura  MDX SH-AWD A-SPEC    SUV: Small          3.5          6   \n",
       "3        2019  Acura     MDX Hybrid AWD    SUV: Small          3.0          6   \n",
       "4        2019  Acura                NSX    Two-seater          3.5          6   \n",
       "\n",
       "  Transmission Fuel-Type  Fuel-Consumption-City  Fuel-Consumption-Hwy  \\\n",
       "0          AM8         Z                    9.9                   7.0   \n",
       "1          AS9         Z                   12.2                   9.0   \n",
       "2          AS9         Z                   12.2                   9.5   \n",
       "3          AM7         Z                    9.1                   9.0   \n",
       "4          AM9         Z                   11.1                  10.8   \n",
       "\n",
       "   Fuel-Consumption-Comb  CO2-Emissions  \n",
       "0                    8.6            199  \n",
       "1                   10.8            252  \n",
       "2                   11.0            258  \n",
       "3                    9.0            210  \n",
       "4                   11.0            261  "
      ]
     },
     "execution_count": 7,
     "metadata": {},
     "output_type": "execute_result"
    }
   ],
   "source": [
    "data.head()"
   ]
  },
  {
   "cell_type": "code",
   "execution_count": 6,
   "metadata": {},
   "outputs": [
    {
     "data": {
      "text/plain": [
       "Model-Year                 int64\n",
       "Make                      object\n",
       "Model                     object\n",
       "Vehicle-Class             object\n",
       "Engine-Size              float64\n",
       "Cylinders                  int64\n",
       "Transmission              object\n",
       "Fuel-Type                 object\n",
       "Fuel-Consumption-City    float64\n",
       "Fuel-Consumption-Hwy     float64\n",
       "Fuel-Consumption-Comb    float64\n",
       "CO2-Emissions              int64\n",
       "dtype: object"
      ]
     },
     "execution_count": 6,
     "metadata": {},
     "output_type": "execute_result"
    }
   ],
   "source": [
    "data.dtypes"
   ]
  },
  {
   "cell_type": "code",
   "execution_count": 8,
   "metadata": {},
   "outputs": [
    {
     "data": {
      "text/plain": [
       "array(['Acura', 'Alfa Romeo', 'Aston Martin', 'Audi', 'Bentley', 'BMW',\n",
       "       'Bugatti', 'Buick', 'Cadillac', 'Chevrolet', 'Chrysler', 'Dodge',\n",
       "       'FIAT', 'Ford', 'Genesis', 'GMC', 'Honda', 'Hyundai', 'Infiniti',\n",
       "       'Jaguar', 'Jeep', 'Kia', 'Lamborghini', 'Land Rover', 'Lexus',\n",
       "       'Lincoln', 'Maserati', 'Mazda', 'Mercedes-Benz', 'MINI',\n",
       "       'Mitsubishi', 'Nissan', 'Porsche', 'Ram', 'Rolls-Royce', 'Subaru',\n",
       "       'Toyota', 'Volkswagen', 'Volvo'], dtype=object)"
      ]
     },
     "execution_count": 8,
     "metadata": {},
     "output_type": "execute_result"
    }
   ],
   "source": [
    "data['Make'].unique()"
   ]
  },
  {
   "cell_type": "code",
   "execution_count": 9,
   "metadata": {},
   "outputs": [
    {
     "data": {
      "text/plain": [
       "array(['ILX', 'MDX SH-AWD', 'MDX SH-AWD A-SPEC', 'MDX Hybrid AWD', 'NSX',\n",
       "       'RDX AWD', 'RDX AWD A-SPEC', 'RLX Hybrid', 'TLX', 'TLX A-SPEC',\n",
       "       'TLX SH-AWD', 'TLX SH-AWD A-SPEC', '4C Coupe', '4C Spider',\n",
       "       'Giulia', 'Giulia AWD', 'Giulia Quadrifoglio', 'Stelvio',\n",
       "       'Stelvio AWD', 'Stelvio AWD Quadrifoglio', 'DB11 V8', 'DB11 AMR',\n",
       "       'DBS Superleggera', 'Rapide AMR', 'Vanquish Zagato', 'Vantage V8',\n",
       "       'A3', 'A3 quattro', 'A3 Cabriolet quattro', 'A4', 'A4 quattro',\n",
       "       'A4 allroad quattro', 'A5 quattro', 'A5 Cabriolet quattro',\n",
       "       'A5 Sportback quattro', 'A6 quattro', 'A7 quattro', 'A8L',\n",
       "       'Q3 quattro', 'Q5', 'Q7', 'Q8', 'RS 3', 'RS 5 Coupe',\n",
       "       'RS 5 Sportback', 'S3', 'S4', 'S5', 'S5 Cabriolet', 'S5 Sportback',\n",
       "       'SQ5', 'TT Coupe quattro', 'TT Roadster quattro', 'TT RS Coupe',\n",
       "       'TTS Coupe', 'Bentayga', 'Mulsanne', '230i xDrive Cabriolet',\n",
       "       '230i xDrive Coupe', '330i xDrive', '330i xDrive Gran Turismo',\n",
       "       '330i xDrive Touring', '430i xDrive Cabriolet',\n",
       "       '430i xDrive Coupe', '430i xDrive Gran Coupe', '440i Coupe',\n",
       "       '440i xDrive Cabriolet', '440i xDrive Coupe',\n",
       "       '440i xDrive Gran Coupe', '530i xDrive', '540i xDrive',\n",
       "       '640i xDrive Gran Coupe', '640i xDrive Gran Turismo',\n",
       "       '650i xDrive Gran Coupe', '750i xDrive', '750Li xDrive',\n",
       "       'Alpina B6 xDrive Gran Coupe', 'Alpina B7 xDrive',\n",
       "       'M2 Competition', 'M240i Cabriolet', 'M240i Coupe',\n",
       "       'M240i Coupe M Performance', 'M240i xDrive Cabriolet',\n",
       "       'M240i xDrive Coupe', 'M240i xDrive Coupe M Performance',\n",
       "       'M4 Cabriolet', 'M4 Cabriolet Competition', 'M4 Coupe',\n",
       "       'M4 Coupe Competition', 'M4 CS', 'M5', 'M5 Competition',\n",
       "       'M550i xDrive', 'M6 Gran Coupe', 'M760Li xDrive',\n",
       "       'M850i xDrive Cabriolet', 'M850i xDrive Coupe', 'X1 xDrive28i',\n",
       "       'X2 xDrive28i', 'X3 xDrive30i', 'X3 M40i', 'X4 xDrive30i',\n",
       "       'X4 M40i', 'X5 xDrive40i', 'X5 xDrive50i', 'X6 xDrive35i',\n",
       "       'X6 xDrive50i', 'X6 M', 'X7 xDrive40i', 'X7 xDrive50i', 'Chiron',\n",
       "       'Enclave', 'Enclave AWD', 'Encore',\n",
       "       'Encore (SIDI with Stop/Start)', 'Encore AWD',\n",
       "       'Encore AWD (SIDI with Stop/Start)', 'Envision AWD', 'LaCrosse',\n",
       "       'LaCrosse eAssist', 'LaCrosse AWD', 'Regal', 'Regal AWD',\n",
       "       'CT6 AWD', 'CTS', 'CTS AWD', 'CTS Vsport', 'CTS-V', 'Escalade 4WD',\n",
       "       'XT4', 'XT4 AWD', 'XT5', 'XT5 AWD', 'XTS', 'XTS AWD',\n",
       "       'XTS Vsport AWD', 'Blazer', 'Blazer AWD', 'Camaro', 'Camaro SS',\n",
       "       'Camaro ZL1', 'Colorado', 'Colorado 4WD', 'Colorado ZR2 4WD',\n",
       "       'Corvette', 'Corvette Z06', 'Corvette ZR1', 'Cruze',\n",
       "       'Cruze Premier', 'Cruze Diesel', 'Cruze Hatchback',\n",
       "       'Cruze Hatchback Premier', 'Cruze Hatchback Diesel', 'Equinox',\n",
       "       'Equinox AWD', 'Impala', 'Malibu', 'Malibu Hybrid', 'Silverado',\n",
       "       'Silverado FFV', 'Silverado 4WD', 'Silverado 4WD Trail Boss',\n",
       "       'Silverado 4WD FFV', 'Silverado LD', 'Silverado LD 4WD', 'Spark',\n",
       "       'Suburban', 'Suburban FFV', 'Suburban 4WD', 'Suburban 4WD FFV',\n",
       "       'Tahoe', 'Tahoe FFV', 'Tahoe 4WD', 'Tahoe 4WD FFV', 'Traverse',\n",
       "       'Traverse AWD', 'Trax', 'Trax 4WD', '300', '300 FFV', '300 AWD',\n",
       "       '300 AWD FFV', 'Pacifica', 'Pacifica (Stop-Start)', 'Challenger',\n",
       "       'Challenger (MDS)', 'Challenger GT AWD', 'Challenger SRT Hellcat',\n",
       "       'Challenger SRT Hellcat Redeye', 'Charger', 'Charger FFV',\n",
       "       'Charger (MDS)', 'Charger AWD', 'Charger AWD FFV',\n",
       "       'Charger AWD (MDS)', 'Charger SRT Hellcat', 'Durango AWD',\n",
       "       'Durango AWD SRT', 'Grand Caravan FFV', 'Journey', 'Journey FFV',\n",
       "       'Journey AWD', '124 Spider', '500', '500L', '500X AWD', 'EcoSport',\n",
       "       'EcoSport AWD', 'Edge', 'Edge AWD', 'Escape', 'Escape FFV',\n",
       "       'Escape AWD', 'Expedition 4X4', 'Expedition MAX 4X4',\n",
       "       'Explorer AWD', 'Explorer FFV AWD', 'F-150', 'F-150 (LT Tire Pkg)',\n",
       "       'F-150 (Payload Pkg)', 'F-150 FFV', 'F-150 FFV (LT Tire Pkg)',\n",
       "       'F-150 FFV (Payload Pkg)', 'F-150 4X4', 'F-150 4X4 (LT Tire Pkg)',\n",
       "       'F-150 4X4 (Payload Pkg)', 'F-150 4X4 XL/XLT', 'F-150 FFV 4X4',\n",
       "       'F-150 FFV 4X4 (LT Tire Pkg)', 'F-150 4X4 Limited',\n",
       "       'F-150 FFV 4X4 (Payload Pkg)', 'F-150 Raptor 4X4', 'Flex',\n",
       "       'Flex AWD', 'Flex AWD GTDI', 'Fiesta', 'Fiesta ST', 'Fusion',\n",
       "       'Fusion Hybrid', 'GT', 'Mustang', 'Mustang (Performance Pkg)',\n",
       "       'Mustang Bullitt', 'Mustang Convertible', 'Ranger 4WD',\n",
       "       'Shelby GT350 Mustang', 'T-150 Wagon', 'Taurus FFV', 'Taurus AWD',\n",
       "       'Taurus FFV AWD', 'Transit Connect Van', 'Transit Connect Van FFV',\n",
       "       'Transit Connect Wagon LWB', 'Transit Connect Wagon LWB FFV',\n",
       "       'G70', 'G70 AWD', 'G80 AWD', 'G90 AWD', 'Acadia', 'Acadia AWD',\n",
       "       'Canyon', 'Canyon 4WD', 'Sierra', 'Sierra FFV', 'Sierra 4WD',\n",
       "       'Sierra 4WD FFV', 'Sierra 4WD AT4', 'Sierra LTD', 'Sierra LTD 4WD',\n",
       "       'Terrain', 'Terrain AWD', 'Yukon', 'Yukon FFV', 'Yukon 4WD',\n",
       "       'Yukon 4WD FFV', 'Yukon XL', 'Yukon XL FFV', 'Yukon XL 4WD',\n",
       "       'Yukon XL 4WD FFV', 'Accord', 'Accord Sport/Touring',\n",
       "       'Accord Hybrid', 'Civic Coupe', 'Civic Coupe Si',\n",
       "       'Civic Hatchback', 'Civic Hatchback Sport', 'Civic Sedan',\n",
       "       'Civic Sedan Si', 'Civic Type R', 'CR-V', 'CR-V AWD', 'Fit',\n",
       "       'HR-V', 'HR-V AWD', 'Insight EX', 'Insight Touring', 'Odyssey',\n",
       "       'Odyssey Touring', 'Passport AWD', 'Pilot', 'Pilot AWD',\n",
       "       'Ridgeline AWD', 'Accent', 'Elantra', 'Elantra GT', 'IONIQ',\n",
       "       'IONIQ Blue', 'Kona', 'Kona AWD', 'Santa Fe', 'Santa Fe AWD',\n",
       "       'Santa Fe XL', 'Santa Fe XL AWD', 'Santa Fe XL Ultimate AWD',\n",
       "       'Sonata', 'Sonata SE', 'Sonata Hybrid', 'Sonata Hybrid SE',\n",
       "       'Tucson', 'Tucson AWD', 'Veloster', 'Veloster N', 'Veloster Turbo',\n",
       "       'Q50 AWD', 'Q50 AWD Red Sport', 'Q60 AWD', 'Q60 AWD Red Sport',\n",
       "       'Q70 AWD', 'QX50 AWD', 'QX60 AWD', 'QX80 4WD', 'E-PACE P250',\n",
       "       'F-PACE 20d', 'F-PACE 25t', 'F-PACE 35t', 'F-TYPE Convertible',\n",
       "       'F-TYPE Convertible R-Dynamic', 'F-TYPE Convertible R-Dynamic AWD',\n",
       "       'F-TYPE Coupe', 'F-TYPE Coupe R-Dynamic',\n",
       "       'F-TYPE Coupe R-Dynamic AWD', 'F-TYPE R AWD Convertible',\n",
       "       'F-TYPE R AWD Coupe', 'XE 20d AWD', 'XE 25t AWD', 'XE 35t AWD',\n",
       "       'XF 20d AWD', 'XF 25t AWD', 'XF 35t AWD', 'XJ R-Sport AWD',\n",
       "       'XJL Portfolio AWD', 'XJR LWB', 'Cherokee',\n",
       "       'Cherokee 4X4 Active Drive I', 'Cherokee 4X4 Active Drive II',\n",
       "       'Cherokee 4X4 Active Drive Lock', 'Compass', 'Compass 4X4',\n",
       "       'Grand Cherokee 4X4', 'Grand Cherokee 4X4 EcoDiesel',\n",
       "       'Grand Cherokee 4X4 SRT', 'Grand Cherokee 4X4 Trackhawk',\n",
       "       'Renegade', 'Renegade 4X4', 'Renegade 4X4 Trailhawk',\n",
       "       'Wrangler JL 4X4', 'Wrangler JL Unlimited 4X4', 'Cadenza', 'Forte',\n",
       "       'Niro', 'Niro FE', 'Niro Touring', 'Optima', 'Optima Hybrid',\n",
       "       'Rio', 'Sedona', 'Sorento', 'Sorento AWD', 'Soul', 'Sportage',\n",
       "       'Sportage AWD', 'Stinger AWD', 'Aventador Coupe',\n",
       "       'Aventador Roadster', 'Huracan Coupe', 'Huracan Coupe AWD',\n",
       "       'Huracan Spyder', 'Huracan Spyder AWD',\n",
       "       'Huracan Performante Coupe', 'Huracan Performante Spyder', 'Urus',\n",
       "       'Discovery', 'Discovery TD6 Diesel', 'Discovery Sport',\n",
       "       'Range Rover 3.0', 'Range Rover TD6 Diesel',\n",
       "       'Range Rover 5.0 Supercharged', 'Range Rover SVAutobiography LWB',\n",
       "       'Range Rover Sport 3.0', 'Range Rover Sport TD6 Diesel',\n",
       "       'Range Rover Sport Supercharged', 'Range Rover Evoque',\n",
       "       'Range Rover Evoque Convertible', 'Range Rover Velar D180',\n",
       "       'Range Rover Velar P300', 'Range Rover Velar P380', 'ES 300h',\n",
       "       'ES 350', 'ES 350 F SPORT', 'GS 350 AWD', 'GS F', 'GX 460',\n",
       "       'IS 300', 'IS 300 AWD', 'IS 350 AWD', 'LC 500', 'LC 500h',\n",
       "       'LS 500 AWD', 'LS 500h AWD', 'LX 570', 'NX 300 AWD',\n",
       "       'NX 300 AWD F SPORT', 'NX 300h AWD', 'RC 300 AWD', 'RC 350 AWD',\n",
       "       'RC F', 'RX 350 AWD', 'RX 350 L AWD', 'RX 450h AWD',\n",
       "       'RX 450h L AWD', 'UX 200', 'UX 250h', 'UX 250h AWD',\n",
       "       'Continental AWD', 'MKC AWD', 'MKC AWD (Start/Stop)', 'MKT AWD',\n",
       "       'MKT Livery AWD', 'MKZ AWD', 'MKZ Hybrid', 'Nautilus',\n",
       "       'Navigator 4X4', 'Ghibli', 'Ghibli S', 'Ghibli SQ4',\n",
       "       'GranTurismo Convertible', 'Levante', 'Levante S', 'Levante GTS',\n",
       "       'Levante Trofeo', 'Quattroporte S', 'Quattroporte SQ4',\n",
       "       'Quattroporte GTS', 'CX-3', 'CX-3 4WD', 'CX-5',\n",
       "       'CX-5 (Cylinder Deactivation)', 'CX-5 4WD',\n",
       "       'CX-5 4WD (Cylinder Deactivation)', 'CX-5 Turbo 4WD',\n",
       "       'CX-5 Diesel 4WD', 'CX-9', 'CX-9 4WD', 'Mazda3 4-Door',\n",
       "       'Mazda3 4-Door (SIL)', 'Mazda3 4-Door (Cylinder Deactivation)',\n",
       "       'Mazda3 4-Door 4WD', 'Mazda3 5-Door', 'Mazda3 5-Door (SIL)',\n",
       "       'Mazda3 5-Door 4WD', 'Mazda6', 'Mazda6 Turbo', 'MX-5',\n",
       "       'MX-5 (SIL)', 'A 220', 'A 220 4MATIC', 'A 250', 'A 250 4MATIC',\n",
       "       'AMG C 43 4MATIC', 'AMG C 43 4MATIC Cabriolet',\n",
       "       'AMG C 43 4MATIC Coupe', 'AMG C 43 4MATIC Wagon', 'AMG C 63',\n",
       "       'AMG C 63 S', 'AMG C 63 S Cabriolet', 'AMG C 63 S Coupe',\n",
       "       'AMG CLA 45 4MATIC', 'AMG CLS 53 4MATIC+', 'AMG E 53 4MATIC+',\n",
       "       'AMG E 53 4MATIC+ Cabriolet', 'AMG E 53 4MATIC+ Coupe',\n",
       "       'AMG E 53 4MATIC+ Wagon', 'AMG E 63 S 4MATIC+',\n",
       "       'AMG E 63 S 4MATIC+ Wagon', 'AMG G 63', 'AMG GLA 45 4MATIC',\n",
       "       'AMG GLC 43 4MATIC', 'AMG GLC 43 4MATIC Coupe',\n",
       "       'AMG GLC 63 S 4MATIC+', 'AMG GLC 63 S 4MATIC+ Coupe',\n",
       "       'AMG GLE 43 4MATIC', 'AMG GLE 43 4MATIC Coupe',\n",
       "       'AMG GLE 63 S 4MATIC', 'AMG GLE 63 S 4MATIC Coupe',\n",
       "       'AMG GLS 63 4MATIC', 'AMG GT 53 4MATIC+ Coupe',\n",
       "       'AMG GT 63 4MATIC+ Coupe', 'AMG GT 63 S 4MATIC+ Coupe',\n",
       "       'AMG GT C Coupe', 'AMG GT C Roadster', 'AMG GT R Coupe',\n",
       "       'AMG S 63 4MATIC+', 'AMG S 63 4MATIC+ Cabriolet',\n",
       "       'AMG S 63 4MATIC+ Coupe', 'AMG S 65', 'AMG S 65 Cabriolet',\n",
       "       'AMG S 65 Coupe', 'AMG SL 63', 'AMG SLC 43', 'B 250',\n",
       "       'B 250 4MATIC', 'C 300 4MATIC', 'C 300 4MATIC Cabriolet',\n",
       "       'C 300 4MATIC Coupe', 'C 300 4MATIC Wagon', 'CLA 250',\n",
       "       'CLA 250 4MATIC', 'CLS 450 4MATIC', 'E 300 4MATIC', 'E 450 4MATIC',\n",
       "       'E 450 4MATIC Cabriolet', 'E 450 4MATIC Coupe',\n",
       "       'E 450 4MATIC Wagon', 'G 550', 'GLA 250 4MATIC', 'GLC 300 4MATIC',\n",
       "       'GLC 300 4MATIC Coupe', 'GLE 400 4MATIC', 'GLS 450 4MATIC',\n",
       "       'GLS 550 4MATIC', 'Maybach S 560 4MATIC', 'Maybach S 650',\n",
       "       'Metris Cargo', 'Metris Cargo LWB', 'Metris Passenger',\n",
       "       'S 450 4MATIC SWB', 'S 560 Cabriolet', 'S 560 4MATIC',\n",
       "       'S 560 4MATIC SWB', 'SL 450', 'SL 550', 'SLC 300', 'Cooper 3 Door',\n",
       "       'Cooper 5 Door', 'Cooper Clubman ALL4', 'Cooper Convertible',\n",
       "       'Cooper Countryman ALL4', 'Cooper S 3 Door', 'Cooper S 5 Door',\n",
       "       'Cooper S Clubman ALL4', 'Cooper S Convertible',\n",
       "       'Cooper S Countryman ALL4', 'John Cooper Works 3 Door',\n",
       "       'John Cooper Works Clubman ALL4', 'John Cooper Works Convertible',\n",
       "       'John Cooper Works Countryman ALL4', 'Eclipse Cross 4WD', 'Mirage',\n",
       "       'Mirage G4', 'Outlander 4WD', 'RVR', 'RVR 4WD', '370Z',\n",
       "       '370Z Roadster', 'Altima', 'Altima SR/Platinum', 'Altima AWD',\n",
       "       'Altima AWD SR/Platinum', 'Armada 4WD', 'Frontier', 'Frontier 4WD',\n",
       "       'GT-R', 'Kicks', 'Maxima', 'Micra', 'Murano', 'Murano AWD',\n",
       "       'NV200 Cargo Van', 'Pathfinder', 'Pathfinder 4WD',\n",
       "       'Pathfinder 4WD Platinum', 'Qashqai', 'Qashqai AWD', 'Rogue',\n",
       "       'Rogue AWD', 'Sentra', 'Sentra (Turbo)', 'Sentra Nismo', 'Titan',\n",
       "       'Titan 4WD', 'Titan 4WD Pro-4X', 'Versa', '911 Carrera',\n",
       "       '911 Carrera Cabriolet', '911 Carrera GTS',\n",
       "       '911 Carrera GTS Cabriolet', '911 Carrera S',\n",
       "       '911 Carrera S Cabriolet', '911 Carrera T', '911 Carrera 4',\n",
       "       '911 Carrera 4 Cabriolet', '911 Carrera 4 GTS',\n",
       "       '911 Carrera 4 GTS Cabriolet', '911 Carrera 4S',\n",
       "       '911 Carrera 4S Cabriolet', '911 GT2 RS', '911 GT3', '911 GT3 RS',\n",
       "       '911 GT3 Touring', '911 Speedster', '911 Targa 4',\n",
       "       '911 Targa 4 GTS', '911 Targa 4S', '911 Turbo',\n",
       "       '911 Turbo Cabriolet', '911 Turbo S', '911 Turbo S Cabriolet',\n",
       "       '911 Turbo S Exclusive Cabriolet', 'Boxster', 'Boxster GTS',\n",
       "       'Boxster S', 'Cayenne', 'Cayenne S', 'Cayenne Turbo', 'Cayman',\n",
       "       'Cayman GTS', 'Cayman S', 'Macan', 'Macan S', 'Panamera',\n",
       "       'Panamera 4', 'Panamera 4 Executive', 'Panamera 4 ST',\n",
       "       'Panamera 4S', 'Panamera 4S Executive', 'Panamera 4S ST',\n",
       "       'Panamera GTS', 'Panamera GTS ST', 'Panamera Turbo',\n",
       "       'Panamera Turbo Executive', 'Panamera Turbo ST', '1500 eTorque',\n",
       "       '1500 HFE eTorque', '1500', '1500 4X4 eTorque', '1500 4X4',\n",
       "       '1500 Classic EcoDiesel', '1500 Classic FFV', '1500 Classic',\n",
       "       '1500 Classic 4X4 EcoDiesel', '1500 Classic 4X4 FFV',\n",
       "       '1500 Classic 4X4', 'ProMaster City', 'Cullinan', 'Dawn', 'Ghost',\n",
       "       'Ghost EWB', 'Phantom', 'Phantom EWB', 'Wraith', 'Ascent AWD',\n",
       "       'BRZ', 'Crosstrek AWD', 'Forester AWD', 'Impreza 4-Door AWD',\n",
       "       'Impreza 5-Door AWD', 'Legacy AWD', 'Outback AWD', 'WRX AWD',\n",
       "       'WRX STI AWD', '4Runner 4WD', '4Runner 4WD (Part-Time 4WD)', '86',\n",
       "       'Avalon', 'Camry', 'Camry LE/SE', 'Camry XLE/XSE', 'Camry XSE',\n",
       "       'Camry Hybrid LE', 'Camry Hybrid XLE/SE', 'C-HR', 'Corolla',\n",
       "       'Corolla LE Eco', 'Corolla Hatchback', 'Highlander',\n",
       "       'Highlander AWD', 'Highlander AWD (Start/Stop System)',\n",
       "       'Highlander AWD LE', 'Highlander Hybrid AWD', 'Prius', 'Prius AWD',\n",
       "       'Prius c', 'RAV4', 'RAV4 AWD', 'RAV4 Hybrid AWD', 'Sequoia 4WD',\n",
       "       'Sienna', 'Sienna AWD', 'Tacoma', 'Tacoma 4WD',\n",
       "       'Tacoma 4WD D-Cab Off-Road', 'Tundra', 'Tundra 4WD', 'Yaris',\n",
       "       'Yaris (SIL)', 'Yaris Hatchback', 'Arteon 4MOTION', 'Atlas',\n",
       "       'Atlas 4MOTION', 'Beetle', 'Beetle Convertible', 'Golf',\n",
       "       'Golf GTI', 'Golf R', 'Golf Alltrack', 'Golf SportWagen',\n",
       "       'Golf SportWagen 4MOTION', 'Jetta', 'Jetta GLI', 'Passat',\n",
       "       'Tiguan', 'Tiguan 4MOTION', 'S60 T5', 'S60 T6 AWD', 'S90 T5 AWD',\n",
       "       'S90 T6 AWD', 'V60 T5', 'V60 T6 AWD', 'V60 CC T5 AWD',\n",
       "       'V90 T6 AWD', 'V90 CC T6 AWD', 'XC40 T5 AWD', 'XC60 T5 AWD',\n",
       "       'XC60 T6 AWD', 'XC90 T5 AWD', 'XC90 T6 AWD'], dtype=object)"
      ]
     },
     "execution_count": 9,
     "metadata": {},
     "output_type": "execute_result"
    }
   ],
   "source": [
    "data['Model'].unique()"
   ]
  },
  {
   "cell_type": "code",
   "execution_count": 10,
   "metadata": {},
   "outputs": [
    {
     "data": {
      "text/plain": [
       "array(['AM8', 'AS9', 'AM7', 'AM9', 'AS10', 'AM6', 'A8', 'AS8', 'M6', 'A9',\n",
       "       'AS6', 'A6', 'A10', 'M7', 'AV', 'M5', 'A5', 'A4', 'AV7', 'AS7',\n",
       "       'AV8', 'AV6', 'AV10', 'A7', 'AS5'], dtype=object)"
      ]
     },
     "execution_count": 10,
     "metadata": {},
     "output_type": "execute_result"
    }
   ],
   "source": [
    "data['Transmission'].unique()"
   ]
  },
  {
   "cell_type": "code",
   "execution_count": 11,
   "metadata": {},
   "outputs": [
    {
     "data": {
      "text/plain": [
       "array(['Compact', 'SUV: Small', 'Two-seater', 'Mid-size', 'Minicompact',\n",
       "       'Subcompact', 'Station wagon: Small', 'Full-size', 'SUV: Standard',\n",
       "       'Pickup truck: Small', 'Pickup truck: Standard', 'Minivan',\n",
       "       'Van: Passenger', 'Special purpose vehicle',\n",
       "       'Station wagon: Mid-size'], dtype=object)"
      ]
     },
     "execution_count": 11,
     "metadata": {},
     "output_type": "execute_result"
    }
   ],
   "source": [
    "data['Vehicle-Class'].unique()"
   ]
  },
  {
   "cell_type": "code",
   "execution_count": 12,
   "metadata": {},
   "outputs": [
    {
     "data": {
      "text/plain": [
       "array(['Z', 'X', 'D', 'E'], dtype=object)"
      ]
     },
     "execution_count": 12,
     "metadata": {},
     "output_type": "execute_result"
    }
   ],
   "source": [
    "data['Fuel-Type'].unique()"
   ]
  },
  {
   "cell_type": "code",
   "execution_count": 13,
   "metadata": {},
   "outputs": [
    {
     "data": {
      "text/html": [
       "<div>\n",
       "<style scoped>\n",
       "    .dataframe tbody tr th:only-of-type {\n",
       "        vertical-align: middle;\n",
       "    }\n",
       "\n",
       "    .dataframe tbody tr th {\n",
       "        vertical-align: top;\n",
       "    }\n",
       "\n",
       "    .dataframe thead th {\n",
       "        text-align: right;\n",
       "    }\n",
       "</style>\n",
       "<table border=\"1\" class=\"dataframe\">\n",
       "  <thead>\n",
       "    <tr style=\"text-align: right;\">\n",
       "      <th></th>\n",
       "      <th>Engine-Size</th>\n",
       "      <th>Cylinders</th>\n",
       "      <th>Fuel-Consumption-Comb</th>\n",
       "      <th>CO2-Emissions</th>\n",
       "    </tr>\n",
       "  </thead>\n",
       "  <tbody>\n",
       "    <tr>\n",
       "      <th>0</th>\n",
       "      <td>2.4</td>\n",
       "      <td>4</td>\n",
       "      <td>8.6</td>\n",
       "      <td>199</td>\n",
       "    </tr>\n",
       "    <tr>\n",
       "      <th>1</th>\n",
       "      <td>3.5</td>\n",
       "      <td>6</td>\n",
       "      <td>10.8</td>\n",
       "      <td>252</td>\n",
       "    </tr>\n",
       "    <tr>\n",
       "      <th>2</th>\n",
       "      <td>3.5</td>\n",
       "      <td>6</td>\n",
       "      <td>11.0</td>\n",
       "      <td>258</td>\n",
       "    </tr>\n",
       "    <tr>\n",
       "      <th>3</th>\n",
       "      <td>3.0</td>\n",
       "      <td>6</td>\n",
       "      <td>9.0</td>\n",
       "      <td>210</td>\n",
       "    </tr>\n",
       "    <tr>\n",
       "      <th>4</th>\n",
       "      <td>3.5</td>\n",
       "      <td>6</td>\n",
       "      <td>11.0</td>\n",
       "      <td>261</td>\n",
       "    </tr>\n",
       "    <tr>\n",
       "      <th>5</th>\n",
       "      <td>2.0</td>\n",
       "      <td>4</td>\n",
       "      <td>9.9</td>\n",
       "      <td>232</td>\n",
       "    </tr>\n",
       "    <tr>\n",
       "      <th>6</th>\n",
       "      <td>2.0</td>\n",
       "      <td>4</td>\n",
       "      <td>10.3</td>\n",
       "      <td>242</td>\n",
       "    </tr>\n",
       "    <tr>\n",
       "      <th>7</th>\n",
       "      <td>3.5</td>\n",
       "      <td>6</td>\n",
       "      <td>8.4</td>\n",
       "      <td>196</td>\n",
       "    </tr>\n",
       "    <tr>\n",
       "      <th>8</th>\n",
       "      <td>2.4</td>\n",
       "      <td>4</td>\n",
       "      <td>8.7</td>\n",
       "      <td>205</td>\n",
       "    </tr>\n",
       "  </tbody>\n",
       "</table>\n",
       "</div>"
      ],
      "text/plain": [
       "   Engine-Size  Cylinders  Fuel-Consumption-Comb  CO2-Emissions\n",
       "0          2.4          4                    8.6            199\n",
       "1          3.5          6                   10.8            252\n",
       "2          3.5          6                   11.0            258\n",
       "3          3.0          6                    9.0            210\n",
       "4          3.5          6                   11.0            261\n",
       "5          2.0          4                    9.9            232\n",
       "6          2.0          4                   10.3            242\n",
       "7          3.5          6                    8.4            196\n",
       "8          2.4          4                    8.7            205"
      ]
     },
     "execution_count": 13,
     "metadata": {},
     "output_type": "execute_result"
    }
   ],
   "source": [
    "cdf = data[['Engine-Size','Cylinders','Fuel-Consumption-Comb','CO2-Emissions']]\n",
    "cdf.head(9)"
   ]
  },
  {
   "cell_type": "code",
   "execution_count": 14,
   "metadata": {},
   "outputs": [
    {
     "data": {
      "text/plain": [
       "array([[<Axes: title={'center': 'Engine-Size'}>,\n",
       "        <Axes: title={'center': 'Cylinders'}>],\n",
       "       [<Axes: title={'center': 'Fuel-Consumption-Comb'}>,\n",
       "        <Axes: title={'center': 'CO2-Emissions'}>]], dtype=object)"
      ]
     },
     "execution_count": 14,
     "metadata": {},
     "output_type": "execute_result"
    },
    {
     "data": {
      "image/png": "[encoded data removed]",
      "text/plain": [
       "<Figure size 640x480 with 4 Axes>"
      ]
     },
     "metadata": {},
     "output_type": "display_data"
    }
   ],
   "source": [
    "cdf.hist()"
   ]
  },
  {
   "cell_type": "code",
   "execution_count": 26,
   "metadata": {},
   "outputs": [
    {
     "data": {
      "image/png": "[encoded data removed]",
      "text/plain": [
       "<Figure size 640x480 with 1 Axes>"
      ]
     },
     "metadata": {},
     "output_type": "display_data"
    }
   ],
   "source": [
    "# Scatter matplotlib\n",
    "# رسم بياني باستخدام النقط\n",
    "# تاخذ x,y\n",
    "# s حجم النقط\n",
    "# c لون\n",
    "# alpha شفافيه\n",
    "plt.scatter(data=cdf ,x='Engine-Size',y='CO2-Emissions' ,c='orange' , alpha=0.5)\n",
    "plt.xlabel(\"Engine-Size\")\n",
    "plt.ylabel(\"CO2-Emissions\")\n",
    "plt.show()"
   ]
  },
  {
   "cell_type": "code",
   "execution_count": 28,
   "metadata": {},
   "outputs": [
    {
     "data": {
      "image/png": "[encoded data removed]",
      "text/plain": [
       "<Figure size 640x480 with 1 Axes>"
      ]
     },
     "metadata": {},
     "output_type": "display_data"
    }
   ],
   "source": [
    "plt.scatter(cdf['Fuel-Consumption-Comb'],cdf['CO2-Emissions'],alpha=0.6)\n",
    "plt.xlabel(\"Fuel-Consumption-Comb\")\n",
    "plt.ylabel(\"CO2-Emissions\")\n",
    "plt.show()"
   ]
  },
  {
   "cell_type": "code",
   "execution_count": 29,
   "metadata": {},
   "outputs": [
    {
     "data": {
      "image/png": "[encoded data removed]",
      "text/plain": [
       "<Figure size 640x480 with 1 Axes>"
      ]
     },
     "metadata": {},
     "output_type": "display_data"
    }
   ],
   "source": [
    "plt.scatter(data=cdf, x='Cylinders', y='CO2-Emissions',  color='blue')\n",
    "plt.xlabel(\"c\")\n",
    "plt.ylabel(\"e\")\n",
    "plt.show()"
   ]
  },
  {
   "cell_type": "code",
   "execution_count": 30,
   "metadata": {},
   "outputs": [],
   "source": [
    "X = data[['Fuel-Consumption-Comb']].to_numpy()\n",
    "y = data['CO2-Emissions'].to_numpy()"
   ]
  },
  {
   "cell_type": "code",
   "execution_count": 31,
   "metadata": {},
   "outputs": [],
   "source": [
    "# train & test dataset\n",
    "from sklearn.model_selection import train_test_split\n",
    "X_train,X_test,y_train,y_test = train_test_split(X,y,test_size=0.33,random_state=7,shuffle=True)"
   ]
  },
  {
   "cell_type": "code",
   "execution_count": 33,
   "metadata": {},
   "outputs": [
    {
     "name": "stdout",
     "output_type": "stream",
     "text": [
      "(1046, 1)\n",
      "(1046, 1)\n",
      "Coefficients: [[19.79613439]]\n",
      "Intercept:  [36.07791815]\n"
     ]
    }
   ],
   "source": [
    "from sklearn import linear_model\n",
    "model = linear_model.LinearRegression()\n",
    "train_X = data[[\"Fuel-Consumption-Comb\"]].to_numpy()\n",
    "train_y = data[[\"CO2-Emissions\"]].to_numpy()\n",
    "print(train_X.shape)\n",
    "print(train_y.shape)\n",
    "\n",
    "model.fit(train_X,train_y)\n",
    "# The coefficients\n",
    "print(\"Coefficients:\", model.coef_)\n",
    "print(\"Intercept: \",model.intercept_)"
   ]
  },
  {
   "cell_type": "code",
   "execution_count": 35,
   "metadata": {},
   "outputs": [
    {
     "data": {
      "text/plain": [
       "Text(0, 0.5, 'Emission')"
      ]
     },
     "execution_count": 35,
     "metadata": {},
     "output_type": "execute_result"
    },
    {
     "data": {
      "image/png": "[encoded data removed]",
      "text/plain": [
       "<Figure size 640x480 with 1 Axes>"
      ]
     },
     "metadata": {},
     "output_type": "display_data"
    }
   ],
   "source": [
    "plt.scatter(data=cdf,x=\"Fuel-Consumption-Comb\",y='CO2-Emissions') #color ='blue'\n",
    "plt.plot(train_X, model.coef_[0][0]*train_X+model.intercept_[0],'-k') \n",
    "plt.xlabel(\"Fuel-Consumption-Comb\")\n",
    "plt.ylabel(\"Emission\")"
   ]
  },
  {
   "cell_type": "code",
   "execution_count": 37,
   "metadata": {},
   "outputs": [
    {
     "name": "stdout",
     "output_type": "stream",
     "text": [
      "MAE: 10.949\n",
      "RMSE: 19.986\n",
      "R2-score: 0.860\n"
     ]
    }
   ],
   "source": [
    "from sklearn.metrics import root_mean_squared_error,mean_absolute_error,r2_score\n",
    "test_X = data[[\"Fuel-Consumption-Comb\"]].to_numpy()\n",
    "test_y = data[[\"CO2-Emissions\"]].to_numpy()\n",
    "test_pred = model.predict(test_X)\n",
    "print(\"MAE: %.3f\" %mean_absolute_error(test_pred,test_y))\n",
    "print(\"RMSE: %.3f\" %root_mean_squared_error(test_pred,test_y))\n",
    "print(\"R2-score: %.3f\" %r2_score(test_pred,test_y))"
   ]
  }
 ],
 "metadata": {
  "kernelspec": {
   "display_name": "Python 3",
   "language": "python",
   "name": "python3"
  },
  "language_info": {
   "codemirror_mode": {
    "name": "ipython",
    "version": 3
   },
   "file_extension": ".py",
   "mimetype": "text/x-python",
   "name": "python",
   "nbconvert_exporter": "python",
   "pygments_lexer": "ipython3",
   "version": "3.12.2"
  }
 },
 "nbformat": 4,
 "nbformat_minor": 2
}
